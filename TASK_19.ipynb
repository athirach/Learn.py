{
  "nbformat": 4,
  "nbformat_minor": 0,
  "metadata": {
    "colab": {
      "name": "TASK 19.ipynb",
      "provenance": [],
      "include_colab_link": true
    },
    "kernelspec": {
      "name": "python3",
      "display_name": "Python 3"
    },
    "language_info": {
      "name": "python"
    }
  },
  "cells": [
    {
      "cell_type": "markdown",
      "metadata": {
        "id": "view-in-github",
        "colab_type": "text"
      },
      "source": [
        "<a href=\"https://colab.research.google.com/github/athirach/Learn.py/blob/main/TASK_19.ipynb\" target=\"_parent\"><img src=\"https://colab.research.google.com/assets/colab-badge.svg\" alt=\"Open In Colab\"/></a>"
      ]
    },
    {
      "cell_type": "markdown",
      "metadata": {
        "id": "6J-6GvX2JUcC"
      },
      "source": [
        "1. Create a DataFrame by passing a random numpy array,with a dateted index and labelled columns and display,\n",
        "  - where values of the column A is greater than 0.\n",
        "  - where values of the columns A is greater than 0 and B greater than -1.\n",
        "  - where values of the columns A  is greater than 0 or B greater than -1.\n"
      ]
    },
    {
      "cell_type": "code",
      "metadata": {
        "id": "xX-5VikpLcHL",
        "outputId": "50969418-160c-4b14-f183-a03c3e90a0ef",
        "colab": {
          "base_uri": "https://localhost:8080/"
        }
      },
      "source": [
        "#please type your code below this line.\n",
        "import numpy as np\n",
        "import pandas as pd\n",
        "datetie= pd.date_range('2021-08-24',periods=8)\n",
        "df=pd.DataFrame(np.random.randn(8,6), index=datetie, columns=list('ABCDEF'))\n",
        "print(df)\n",
        "print(\"\\nValues of the column A is greater than 0:\\n\",df[df['A']>0])\n",
        "print(\"\\nValues of the columns A is greater than 0 and B greater than -1:\\n\",df[(df['A']>0) & (df['B']>-1)])\n",
        "print(\"\\nValues of the columns A is greater than 0 or B greater than -1:\\n\",df[(df['A']>0) | (df['B']>-1)])"
      ],
      "execution_count": 2,
      "outputs": [
        {
          "output_type": "stream",
          "name": "stdout",
          "text": [
            "                   A         B         C         D         E         F\n",
            "2021-08-24 -0.442499  0.613068  0.790820  1.043139  0.117181  1.882806\n",
            "2021-08-25 -0.470262  0.888288 -1.058978  1.285869 -0.071680 -0.424013\n",
            "2021-08-26  0.477666  0.607436  1.418473 -1.437737 -0.172650 -0.738636\n",
            "2021-08-27 -2.196259  1.201517  0.177842  0.360011 -1.521971 -0.354203\n",
            "2021-08-28  0.748718  1.072608  0.149102 -0.715534  2.453097  0.075035\n",
            "2021-08-29  0.435150 -0.024056  1.761335 -0.665113  0.617464 -1.690676\n",
            "2021-08-30 -0.210985 -0.245657 -1.813494 -0.375130 -1.362556  0.980901\n",
            "2021-08-31  0.690348 -0.698893 -0.900988  0.675893 -1.357617 -0.147817\n",
            "\n",
            "Values of the column A is greater than 0:\n",
            "                    A         B         C         D         E         F\n",
            "2021-08-26  0.477666  0.607436  1.418473 -1.437737 -0.172650 -0.738636\n",
            "2021-08-28  0.748718  1.072608  0.149102 -0.715534  2.453097  0.075035\n",
            "2021-08-29  0.435150 -0.024056  1.761335 -0.665113  0.617464 -1.690676\n",
            "2021-08-31  0.690348 -0.698893 -0.900988  0.675893 -1.357617 -0.147817\n",
            "\n",
            "Values of the columns A is greater than 0 and B greater than -1:\n",
            "                    A         B         C         D         E         F\n",
            "2021-08-26  0.477666  0.607436  1.418473 -1.437737 -0.172650 -0.738636\n",
            "2021-08-28  0.748718  1.072608  0.149102 -0.715534  2.453097  0.075035\n",
            "2021-08-29  0.435150 -0.024056  1.761335 -0.665113  0.617464 -1.690676\n",
            "2021-08-31  0.690348 -0.698893 -0.900988  0.675893 -1.357617 -0.147817\n",
            "\n",
            "Values of the columns A is greater than 0 or B greater than -1:\n",
            "                    A         B         C         D         E         F\n",
            "2021-08-24 -0.442499  0.613068  0.790820  1.043139  0.117181  1.882806\n",
            "2021-08-25 -0.470262  0.888288 -1.058978  1.285869 -0.071680 -0.424013\n",
            "2021-08-26  0.477666  0.607436  1.418473 -1.437737 -0.172650 -0.738636\n",
            "2021-08-27 -2.196259  1.201517  0.177842  0.360011 -1.521971 -0.354203\n",
            "2021-08-28  0.748718  1.072608  0.149102 -0.715534  2.453097  0.075035\n",
            "2021-08-29  0.435150 -0.024056  1.761335 -0.665113  0.617464 -1.690676\n",
            "2021-08-30 -0.210985 -0.245657 -1.813494 -0.375130 -1.362556  0.980901\n",
            "2021-08-31  0.690348 -0.698893 -0.900988  0.675893 -1.357617 -0.147817\n"
          ]
        }
      ]
    },
    {
      "cell_type": "markdown",
      "metadata": {
        "id": "1WAf9SbwLp6o"
      },
      "source": [
        "2. Create a DataFrame by passing a random numpy array,with a dateted index and labelled columns and check if ,\n",
        "  - the values of the table are greater the zero or not.\n",
        "  - the value at the postion (0,0) is equal to NaN or not."
      ]
    },
    {
      "cell_type": "code",
      "metadata": {
        "id": "rBrt8pMeM2Q5",
        "outputId": "badf50c5-a078-4c30-c17e-77fd7bba6414",
        "colab": {
          "base_uri": "https://localhost:8080/"
        }
      },
      "source": [
        "#please type your code below this line.\n",
        "import numpy as np\n",
        "import pandas as pd\n",
        "datetie= pd.date_range('2021-08-24',periods=8)\n",
        "df=pd.DataFrame(np.random.randn(8,6), index=datetie, columns=list('ABCDEF'))\n",
        "print(df)\n",
        "print(\"\\nValues greater the zero or not:\\n\",df>0)\n",
        "print(\"\\nValue at the position (0,0) is equal to NaN or not:\\n\",df.iloc[[0],[0]] =='NaN')"
      ],
      "execution_count": 3,
      "outputs": [
        {
          "output_type": "stream",
          "name": "stdout",
          "text": [
            "                   A         B         C         D         E         F\n",
            "2021-08-24 -0.517181 -0.014019 -1.071537  1.674288 -0.031837 -0.257687\n",
            "2021-08-25  0.613294 -0.037312  0.758256 -0.875333 -1.409580 -1.484154\n",
            "2021-08-26  0.476799  0.460823  0.438498  1.394813 -1.023533  2.293542\n",
            "2021-08-27 -1.271760 -0.341392  0.940474  0.598592 -0.354652 -0.329784\n",
            "2021-08-28 -0.958698 -0.153199  0.376063  0.112491 -0.545392 -0.380312\n",
            "2021-08-29 -0.627362  0.577979  1.348139  0.655063  1.446016 -0.352019\n",
            "2021-08-30 -2.015963 -0.027552 -1.768955  0.319721 -0.909697  0.739573\n",
            "2021-08-31  0.583838  1.219931  0.352636 -1.941436 -2.301006 -0.074700\n",
            "\n",
            "Values greater the zero or not:\n",
            "                 A      B      C      D      E      F\n",
            "2021-08-24  False  False  False   True  False  False\n",
            "2021-08-25   True  False   True  False  False  False\n",
            "2021-08-26   True   True   True   True  False   True\n",
            "2021-08-27  False  False   True   True  False  False\n",
            "2021-08-28  False  False   True   True  False  False\n",
            "2021-08-29  False   True   True   True   True  False\n",
            "2021-08-30  False  False  False   True  False   True\n",
            "2021-08-31   True   True   True  False  False  False\n",
            "\n",
            "Value at the position (0,0) is equal to NaN or not:\n",
            "                 A\n",
            "2021-08-24  False\n"
          ]
        }
      ]
    },
    {
      "cell_type": "markdown",
      "metadata": {
        "id": "IfM9XYmiNaKB"
      },
      "source": [
        "3. Create a DataFrame by passing a random numpy array,with a dateted index and labelled columns and,\n",
        "  - reindex the index with even dates.\n",
        "  - create a column with values NaN.\n",
        "  - make the values of the first two index of the newly created column as 1"
      ]
    },
    {
      "cell_type": "code",
      "metadata": {
        "id": "F-w8kEfaORg3",
        "outputId": "3ea90390-04ba-4122-f841-73de07808fa7",
        "colab": {
          "base_uri": "https://localhost:8080/"
        }
      },
      "source": [
        "#please type your answer below this line.\n",
        "import numpy as np\n",
        "import pandas as pd\n",
        "datetie= pd.date_range('2021-08-24',periods=8)\n",
        "df=pd.DataFrame(np.random.randn(8,6), index=datetie, columns=list('ABCDEF'))\n",
        "print(df)\n",
        "df1 = df.reindex(df.index[0::2])\n",
        "print(\"\\nIndex with even dates:\\n\",df1)\n",
        "df1['G'] = 'NaN'\n",
        "print(\"\\nNew column with values NaN:\\n\",df1)\n",
        "df1.loc[df1.index[:2],'G']=1\n",
        "print(\"\\nFirst two index of the newly created column as 1:\\n\",df1)"
      ],
      "execution_count": 5,
      "outputs": [
        {
          "output_type": "stream",
          "name": "stdout",
          "text": [
            "                   A         B         C         D         E         F\n",
            "2021-08-24  0.730818  1.591074 -0.390327  0.724599  0.021933 -0.138143\n",
            "2021-08-25 -1.021620  1.575762  0.812609  0.311422  0.397163  0.119122\n",
            "2021-08-26 -2.066800  0.413793 -1.615614 -1.056543  2.671787  0.460946\n",
            "2021-08-27  0.511963  0.776509 -1.122136 -0.911156  0.259819  1.311469\n",
            "2021-08-28 -0.633083 -0.644036  0.505809 -2.065410  1.623816 -1.515861\n",
            "2021-08-29 -1.485474 -0.037436  0.565142 -1.687062 -0.773435 -1.215062\n",
            "2021-08-30  0.251716 -1.616298  0.537597 -1.687543  0.634569 -1.054780\n",
            "2021-08-31 -1.435903  0.561566  0.836958 -1.033907 -0.626560 -1.300167\n",
            "\n",
            "Index with even dates:\n",
            "                    A         B         C         D         E         F\n",
            "2021-08-24  0.730818  1.591074 -0.390327  0.724599  0.021933 -0.138143\n",
            "2021-08-26 -2.066800  0.413793 -1.615614 -1.056543  2.671787  0.460946\n",
            "2021-08-28 -0.633083 -0.644036  0.505809 -2.065410  1.623816 -1.515861\n",
            "2021-08-30  0.251716 -1.616298  0.537597 -1.687543  0.634569 -1.054780\n",
            "\n",
            "New column with values NaN:\n",
            "                    A         B         C         D         E         F    G\n",
            "2021-08-24  0.730818  1.591074 -0.390327  0.724599  0.021933 -0.138143  NaN\n",
            "2021-08-26 -2.066800  0.413793 -1.615614 -1.056543  2.671787  0.460946  NaN\n",
            "2021-08-28 -0.633083 -0.644036  0.505809 -2.065410  1.623816 -1.515861  NaN\n",
            "2021-08-30  0.251716 -1.616298  0.537597 -1.687543  0.634569 -1.054780  NaN\n",
            "\n",
            "First two index of the newly created column as 1:\n",
            "                    A         B         C         D         E         F    G\n",
            "2021-08-24  0.730818  1.591074 -0.390327  0.724599  0.021933 -0.138143    1\n",
            "2021-08-26 -2.066800  0.413793 -1.615614 -1.056543  2.671787  0.460946    1\n",
            "2021-08-28 -0.633083 -0.644036  0.505809 -2.065410  1.623816 -1.515861  NaN\n",
            "2021-08-30  0.251716 -1.616298  0.537597 -1.687543  0.634569 -1.054780  NaN\n"
          ]
        }
      ]
    }
  ]
}