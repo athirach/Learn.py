{
  "nbformat": 4,
  "nbformat_minor": 0,
  "metadata": {
    "colab": {
      "name": "TASK 20.ipynb",
      "provenance": [],
      "include_colab_link": true
    },
    "kernelspec": {
      "name": "python3",
      "display_name": "Python 3"
    },
    "language_info": {
      "name": "python"
    }
  },
  "cells": [
    {
      "cell_type": "markdown",
      "metadata": {
        "id": "view-in-github",
        "colab_type": "text"
      },
      "source": [
        "<a href=\"https://colab.research.google.com/github/athirach/Learn.py/blob/main/TASK_20.ipynb\" target=\"_parent\"><img src=\"https://colab.research.google.com/assets/colab-badge.svg\" alt=\"Open In Colab\"/></a>"
      ]
    },
    {
      "cell_type": "markdown",
      "metadata": {
        "id": "8LIfdcjDWmC3"
      },
      "source": [
        "1. In the data given below,\n",
        "  - find the boolean mask where value is nan\n",
        "  - remove the row with missing data.\n"
      ]
    },
    {
      "cell_type": "markdown",
      "metadata": {
        "id": "VPCGISRTbYPz"
      },
      "source": [
        ""
      ]
    },
    {
      "cell_type": "code",
      "metadata": {
        "colab": {
          "base_uri": "https://localhost:8080/"
        },
        "id": "VsZQYRqXXHpG",
        "outputId": "bf85318a-c0ba-47e2-a89f-2b7bc42df22e"
      },
      "source": [
        "import pandas as pd\n",
        "import numpy as np\n",
        "dates = pd.date_range('20210101',periods=6)\n",
        "df = pd.DataFrame(np.random.randn(6,4), index=dates,columns=list('ABCD'))\n",
        "s1 = pd.Series([1,2,3,4,5,6], index=pd.date_range('20130102', periods=6))\n",
        "df[\"F\"]=s1\n",
        "df1=df.reindex(index=dates[0:4], columns=list(df.columns) + ['E'])\n",
        "df1.loc[dates[0]:dates[1],'E'] = 1\n",
        "df1\n",
        "#please provide your answer below this line\n",
        "print(df1)\n",
        "print(\"\\nboolean mask where value is nan: \\n\",df1.isnull())\n",
        "print(\"\\nRemoving the row with missing data: \\n\",df1.dropna())"
      ],
      "execution_count": 1,
      "outputs": [
        {
          "output_type": "stream",
          "name": "stdout",
          "text": [
            "                   A         B         C         D   F    E\n",
            "2021-01-01  0.314168  0.398104  0.651397  0.041811 NaN  1.0\n",
            "2021-01-02 -0.661100 -0.842741 -0.672580  1.069834 NaN  1.0\n",
            "2021-01-03  0.342913 -0.760198  2.225405 -0.942966 NaN  NaN\n",
            "2021-01-04  2.363427 -0.537543 -0.216100 -0.477089 NaN  NaN\n",
            "\n",
            "boolean mask where value is nan: \n",
            "                 A      B      C      D     F      E\n",
            "2021-01-01  False  False  False  False  True  False\n",
            "2021-01-02  False  False  False  False  True  False\n",
            "2021-01-03  False  False  False  False  True   True\n",
            "2021-01-04  False  False  False  False  True   True\n",
            "\n",
            "Removing the row with missing data: \n",
            " Empty DataFrame\n",
            "Columns: [A, B, C, D, F, E]\n",
            "Index: []\n"
          ]
        }
      ]
    },
    {
      "cell_type": "markdown",
      "metadata": {
        "id": "z1sv0aluZhcd"
      },
      "source": [
        "2. In the data given below,fill the missing data with 20."
      ]
    },
    {
      "cell_type": "code",
      "metadata": {
        "colab": {
          "base_uri": "https://localhost:8080/"
        },
        "id": "x3ZHFCeyZ0j2",
        "outputId": "4ec724fc-09fa-4c01-e927-9256b915dce8"
      },
      "source": [
        "import pandas as pd\n",
        "import numpy as np\n",
        "dates = pd.date_range('20210101',periods=6)\n",
        "df = pd.DataFrame(np.random.randn(6,4), index=dates,columns=list('ABCD'))\n",
        "s1 = pd.Series([1,2,3,4,5,6], index=pd.date_range('20130102', periods=6))\n",
        "df[\"F\"]=s1\n",
        "df1=df.reindex(index=dates[0:4], columns=list(df.columns) + ['E'])\n",
        "df1.loc[dates[0]:dates[1],'E'] = 1\n",
        "df1\n",
        "#please provide your answer below this line\n",
        "print(df1)\n",
        "print(\"\\n Filling the row with missing data with 20: \\n\",df1.fillna(value=20))"
      ],
      "execution_count": 2,
      "outputs": [
        {
          "output_type": "stream",
          "name": "stdout",
          "text": [
            "                   A         B         C         D   F    E\n",
            "2021-01-01  0.205512 -0.484120 -0.637542  0.821249 NaN  1.0\n",
            "2021-01-02 -2.014326  1.363052 -1.472129  0.780350 NaN  1.0\n",
            "2021-01-03  0.117587  0.114379  0.825131  0.173921 NaN  NaN\n",
            "2021-01-04 -0.041764  2.282445 -0.973699  1.431629 NaN  NaN\n",
            "\n",
            " Filling the row with missing data with 20: \n",
            "                    A         B         C         D     F     E\n",
            "2021-01-01  0.205512 -0.484120 -0.637542  0.821249  20.0   1.0\n",
            "2021-01-02 -2.014326  1.363052 -1.472129  0.780350  20.0   1.0\n",
            "2021-01-03  0.117587  0.114379  0.825131  0.173921  20.0  20.0\n",
            "2021-01-04 -0.041764  2.282445 -0.973699  1.431629  20.0  20.0\n"
          ]
        }
      ]
    },
    {
      "cell_type": "markdown",
      "metadata": {
        "id": "vMzwvpxcZ3G8"
      },
      "source": [
        "3. From the data given below,\n",
        "  - break the data in to pieces from 0 t0 2 ,3 t0 7\n",
        "  - concatenate the pieces.\n",
        "  - concatenate the pieces along axis 1\n",
        "  - label each as 'a' and 'b' respectively and perform concatenation."
      ]
    },
    {
      "cell_type": "code",
      "metadata": {
        "colab": {
          "base_uri": "https://localhost:8080/"
        },
        "id": "LxGwKPTVbbXV",
        "outputId": "1208dc31-8524-49bc-bd59-c9f3faf0600e"
      },
      "source": [
        "import pandas as pd\n",
        "import numpy as np\n",
        "df = pd.DataFrame(np.random.randn(10, 4))\n",
        "df\n",
        "#please provide your answer below this line\n",
        "print(df)\n",
        "pieces=[df[:3],df[3:8]]\n",
        "print(\"\\n Pieces of data from 0 to 2,3 to 7: \\n\",pieces[0],\"\\n\",pieces[1])\n",
        "print(\"\\n Concatenated pieces: \\n\",pd.concat(pieces))\n",
        "print(\"\\n Concatenate the pieces along axis 1:\\n\",pd.concat(pieces,axis=1))\n",
        "a=pieces[0]\n",
        "b=pieces[1]\n",
        "print(\"\\n Concatenation of a and b:\\n\",pd.concat([a,b]))"
      ],
      "execution_count": 3,
      "outputs": [
        {
          "output_type": "stream",
          "name": "stdout",
          "text": [
            "          0         1         2         3\n",
            "0 -1.168623 -0.289591  1.009815  0.075767\n",
            "1  0.237147  0.638683  0.390121  2.222948\n",
            "2  0.261967  0.452618 -0.195092 -0.926461\n",
            "3 -0.752764  0.009086  0.150364  1.650599\n",
            "4 -3.067281 -0.509871 -0.018103 -0.085863\n",
            "5 -0.998156 -1.680786  0.686169 -1.024416\n",
            "6 -1.312013 -0.029055  0.282700  1.187369\n",
            "7 -0.286057 -0.083526 -0.175839 -0.877239\n",
            "8  2.033061 -0.861415 -0.735882  1.892558\n",
            "9  0.914210 -0.121365  1.099926  0.895878\n",
            "\n",
            " Pieces of data from 0 to 2,3 to 7: \n",
            "           0         1         2         3\n",
            "0 -1.168623 -0.289591  1.009815  0.075767\n",
            "1  0.237147  0.638683  0.390121  2.222948\n",
            "2  0.261967  0.452618 -0.195092 -0.926461 \n",
            "           0         1         2         3\n",
            "3 -0.752764  0.009086  0.150364  1.650599\n",
            "4 -3.067281 -0.509871 -0.018103 -0.085863\n",
            "5 -0.998156 -1.680786  0.686169 -1.024416\n",
            "6 -1.312013 -0.029055  0.282700  1.187369\n",
            "7 -0.286057 -0.083526 -0.175839 -0.877239\n",
            "\n",
            " Concatenated pieces: \n",
            "           0         1         2         3\n",
            "0 -1.168623 -0.289591  1.009815  0.075767\n",
            "1  0.237147  0.638683  0.390121  2.222948\n",
            "2  0.261967  0.452618 -0.195092 -0.926461\n",
            "3 -0.752764  0.009086  0.150364  1.650599\n",
            "4 -3.067281 -0.509871 -0.018103 -0.085863\n",
            "5 -0.998156 -1.680786  0.686169 -1.024416\n",
            "6 -1.312013 -0.029055  0.282700  1.187369\n",
            "7 -0.286057 -0.083526 -0.175839 -0.877239\n",
            "\n",
            " Concatenate the pieces along axis 1:\n",
            "           0         1         2  ...         1         2         3\n",
            "0 -1.168623 -0.289591  1.009815  ...       NaN       NaN       NaN\n",
            "1  0.237147  0.638683  0.390121  ...       NaN       NaN       NaN\n",
            "2  0.261967  0.452618 -0.195092  ...       NaN       NaN       NaN\n",
            "3       NaN       NaN       NaN  ...  0.009086  0.150364  1.650599\n",
            "4       NaN       NaN       NaN  ... -0.509871 -0.018103 -0.085863\n",
            "5       NaN       NaN       NaN  ... -1.680786  0.686169 -1.024416\n",
            "6       NaN       NaN       NaN  ... -0.029055  0.282700  1.187369\n",
            "7       NaN       NaN       NaN  ... -0.083526 -0.175839 -0.877239\n",
            "\n",
            "[8 rows x 8 columns]\n",
            "\n",
            " Concatenation of a and b:\n",
            "           0         1         2         3\n",
            "0 -1.168623 -0.289591  1.009815  0.075767\n",
            "1  0.237147  0.638683  0.390121  2.222948\n",
            "2  0.261967  0.452618 -0.195092 -0.926461\n",
            "3 -0.752764  0.009086  0.150364  1.650599\n",
            "4 -3.067281 -0.509871 -0.018103 -0.085863\n",
            "5 -0.998156 -1.680786  0.686169 -1.024416\n",
            "6 -1.312013 -0.029055  0.282700  1.187369\n",
            "7 -0.286057 -0.083526 -0.175839 -0.877239\n"
          ]
        }
      ]
    },
    {
      "cell_type": "code",
      "metadata": {
        "id": "h290MAgudPQI"
      },
      "source": [
        ""
      ],
      "execution_count": null,
      "outputs": []
    }
  ]
}