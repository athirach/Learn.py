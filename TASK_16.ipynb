{
  "nbformat": 4,
  "nbformat_minor": 0,
  "metadata": {
    "colab": {
      "name": "TASK 16.ipynb",
      "provenance": [],
      "include_colab_link": true
    },
    "kernelspec": {
      "name": "python3",
      "display_name": "Python 3"
    },
    "language_info": {
      "name": "python"
    }
  },
  "cells": [
    {
      "cell_type": "markdown",
      "metadata": {
        "id": "view-in-github",
        "colab_type": "text"
      },
      "source": [
        "<a href=\"https://colab.research.google.com/github/athirach/Learn.py/blob/main/TASK_16.ipynb\" target=\"_parent\"><img src=\"https://colab.research.google.com/assets/colab-badge.svg\" alt=\"Open In Colab\"/></a>"
      ]
    },
    {
      "cell_type": "markdown",
      "metadata": {
        "id": "acyipYglJ670"
      },
      "source": [
        "1. Given index=[\"India\",\"Pakistan\",\"Bangladesh\",\"Srilanka\",\"china\",\"Nepal\"] and data=[1,3,5,np.nan,6,8] . Create a table with the \"index\" as indices and data as values.\n",
        "\n",
        "      Expected output\n",
        "\n",
        "        India         1.0\n",
        "        Pakistan      3.0\n",
        "        Bangladesh    5.0\n",
        "        Srilanka      NaN\n",
        "        China         6.0\n",
        "        Nepal         8.0\n",
        "        Name: myseries, dtype: float64"
      ]
    },
    {
      "cell_type": "code",
      "metadata": {
        "id": "lk5t2eNkKLwL",
        "outputId": "5b0fbb2e-3e69-4ae7-e274-2b2c1151debf",
        "colab": {
          "base_uri": "https://localhost:8080/"
        }
      },
      "source": [
        "#please type your answer below this line.\n",
        "import numpy as np\n",
        "import pandas as pd\n",
        "index=[\"India\", \"Pakistan\", \"Bangladesh\",\"Srilanka\",\"China\", \"Nepal\"]\n",
        "data=[1,3,5, np.nan,6,8]\n",
        "print (pd.Series (data, index, name='myseries'))"
      ],
      "execution_count": 33,
      "outputs": [
        {
          "output_type": "stream",
          "name": "stdout",
          "text": [
            "India         1.0\n",
            "Pakistan      3.0\n",
            "Bangladesh    5.0\n",
            "Srilanka      NaN\n",
            "China         6.0\n",
            "Nepal         8.0\n",
            "Name: myseries, dtype: float64\n"
          ]
        }
      ]
    },
    {
      "cell_type": "markdown",
      "metadata": {
        "id": "inxiNv1rLveT"
      },
      "source": [
        "2. Create a data 'dates' starting from 2021-01-01 with range 6. and create a random 6x4 array and a list=('ABCD').now create a dataframe with 'dates' as index and list as the column and data as the datas of this table.\n",
        "\n",
        "\n",
        "  Expected output\n",
        "\n",
        "                        A\t       B\t      C\t      D\n",
        "    2021-01-01\t-0.429358\t0.779826\t0.389625\t0.248792\n",
        "    2021-01-02\t-1.044721\t0.272807\t-0.370437\t1.177273\n",
        "    2021-01-03\t-0.961394\t-0.525376\t0.120843\t0.470060\n",
        "    2021-01-04\t1.842266\t-0.551049\t0.588390\t-0.326937\n",
        "    2021-01-05\t0.986198\t0.391301\t-0.084837\t-0.855573\n",
        "    2021-01-06\t-1.531207\t0.905463\t-0.099024\t0.589219\n",
        "\n"
      ]
    },
    {
      "cell_type": "code",
      "metadata": {
        "id": "TZYBxFJIRYVm",
        "outputId": "9e6c7f65-0309-4c05-df04-000482199276",
        "colab": {
          "base_uri": "https://localhost:8080/",
          "height": 235
        }
      },
      "source": [
        "#please type \n",
        "import numpy as np\n",
        "import pandas as pd\n",
        "dates = pd.date_range('2021-01-01',periods=6)\n",
        "df = pd.DataFrame(np.random.randn(6,4),index=dates,columns=list('ABCD'))\n",
        "df"
      ],
      "execution_count": 29,
      "outputs": [
        {
          "output_type": "execute_result",
          "data": {
            "text/html": [
              "<div>\n",
              "<style scoped>\n",
              "    .dataframe tbody tr th:only-of-type {\n",
              "        vertical-align: middle;\n",
              "    }\n",
              "\n",
              "    .dataframe tbody tr th {\n",
              "        vertical-align: top;\n",
              "    }\n",
              "\n",
              "    .dataframe thead th {\n",
              "        text-align: right;\n",
              "    }\n",
              "</style>\n",
              "<table border=\"1\" class=\"dataframe\">\n",
              "  <thead>\n",
              "    <tr style=\"text-align: right;\">\n",
              "      <th></th>\n",
              "      <th>A</th>\n",
              "      <th>B</th>\n",
              "      <th>C</th>\n",
              "      <th>D</th>\n",
              "    </tr>\n",
              "  </thead>\n",
              "  <tbody>\n",
              "    <tr>\n",
              "      <th>2021-01-01</th>\n",
              "      <td>0.080672</td>\n",
              "      <td>1.147182</td>\n",
              "      <td>-1.003334</td>\n",
              "      <td>0.915615</td>\n",
              "    </tr>\n",
              "    <tr>\n",
              "      <th>2021-01-02</th>\n",
              "      <td>-0.682637</td>\n",
              "      <td>-0.413770</td>\n",
              "      <td>0.370675</td>\n",
              "      <td>0.946997</td>\n",
              "    </tr>\n",
              "    <tr>\n",
              "      <th>2021-01-03</th>\n",
              "      <td>0.717331</td>\n",
              "      <td>0.167584</td>\n",
              "      <td>-1.065073</td>\n",
              "      <td>-0.008908</td>\n",
              "    </tr>\n",
              "    <tr>\n",
              "      <th>2021-01-04</th>\n",
              "      <td>0.689628</td>\n",
              "      <td>-1.073342</td>\n",
              "      <td>-1.154047</td>\n",
              "      <td>-0.166665</td>\n",
              "    </tr>\n",
              "    <tr>\n",
              "      <th>2021-01-05</th>\n",
              "      <td>0.244792</td>\n",
              "      <td>-1.095302</td>\n",
              "      <td>-1.396438</td>\n",
              "      <td>-0.872557</td>\n",
              "    </tr>\n",
              "    <tr>\n",
              "      <th>2021-01-06</th>\n",
              "      <td>0.938619</td>\n",
              "      <td>-0.777539</td>\n",
              "      <td>0.611307</td>\n",
              "      <td>0.873640</td>\n",
              "    </tr>\n",
              "  </tbody>\n",
              "</table>\n",
              "</div>"
            ],
            "text/plain": [
              "                   A         B         C         D\n",
              "2021-01-01  0.080672  1.147182 -1.003334  0.915615\n",
              "2021-01-02 -0.682637 -0.413770  0.370675  0.946997\n",
              "2021-01-03  0.717331  0.167584 -1.065073 -0.008908\n",
              "2021-01-04  0.689628 -1.073342 -1.154047 -0.166665\n",
              "2021-01-05  0.244792 -1.095302 -1.396438 -0.872557\n",
              "2021-01-06  0.938619 -0.777539  0.611307  0.873640"
            ]
          },
          "metadata": {},
          "execution_count": 29
        }
      ]
    }
  ]
}