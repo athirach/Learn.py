{
  "nbformat": 4,
  "nbformat_minor": 0,
  "metadata": {
    "colab": {
      "name": "TASK 17.ipynb",
      "provenance": [],
      "include_colab_link": true
    },
    "kernelspec": {
      "name": "python3",
      "display_name": "Python 3"
    },
    "language_info": {
      "name": "python"
    }
  },
  "cells": [
    {
      "cell_type": "markdown",
      "metadata": {
        "id": "view-in-github",
        "colab_type": "text"
      },
      "source": [
        "<a href=\"https://colab.research.google.com/github/athirach/Learn.py/blob/main/TASK_17.ipynb\" target=\"_parent\"><img src=\"https://colab.research.google.com/assets/colab-badge.svg\" alt=\"Open In Colab\"/></a>"
      ]
    },
    {
      "cell_type": "markdown",
      "metadata": {
        "id": "0SLapvpoaeYY"
      },
      "source": [
        "1. Create a DataFrame by passing a random numpy array,with a datetie index and labelled columns.and display its,\n",
        "     - Head\n",
        "     - Tail\n",
        "     - Index \n",
        "     - Columns\n",
        "     - Values\n",
        "     - statistics\n"
      ]
    },
    {
      "cell_type": "code",
      "metadata": {
        "id": "zJDkjyVxa5yU",
        "outputId": "ad75f5fb-03cd-40b7-b606-1f00216890c7",
        "colab": {
          "base_uri": "https://localhost:8080/"
        }
      },
      "source": [
        "#please type your answer below this line.\n",
        "import numpy as np\n",
        "import pandas as pd\n",
        "datetie = pd.date_range('2021-08-24',periods=4)\n",
        "df = pd.DataFrame(np.random.randn(4,4), index=datetie, columns=list('ABCD'))\n",
        "print(\"Head:\\n\", df.head())\n",
        "print(\"Tail:\\n\", df.tail())\n",
        "print(\"Index:\\n\", df.index)\n",
        "print(\"Columns:\\n\", df.columns)\n",
        "print(\"Values:\\n\", df.values)\n",
        "print(\"Statistics:\\n\", df.describe(include='all'))"
      ],
      "execution_count": 1,
      "outputs": [
        {
          "output_type": "stream",
          "name": "stdout",
          "text": [
            "Head:\n",
            "                    A         B         C         D\n",
            "2021-08-24 -1.183632 -0.154680  0.452169 -0.059860\n",
            "2021-08-25  0.157375 -1.307753 -0.215994  0.482596\n",
            "2021-08-26 -0.626996  0.466038 -1.610446  0.805716\n",
            "2021-08-27 -0.726172  0.401999 -1.792099 -0.156421\n",
            "Tail:\n",
            "                    A         B         C         D\n",
            "2021-08-24 -1.183632 -0.154680  0.452169 -0.059860\n",
            "2021-08-25  0.157375 -1.307753 -0.215994  0.482596\n",
            "2021-08-26 -0.626996  0.466038 -1.610446  0.805716\n",
            "2021-08-27 -0.726172  0.401999 -1.792099 -0.156421\n",
            "Index:\n",
            " DatetimeIndex(['2021-08-24', '2021-08-25', '2021-08-26', '2021-08-27'], dtype='datetime64[ns]', freq='D')\n",
            "Columns:\n",
            " Index(['A', 'B', 'C', 'D'], dtype='object')\n",
            "Values:\n",
            " [[-1.18363208 -0.15468018  0.45216935 -0.05986011]\n",
            " [ 0.15737464 -1.3077533  -0.21599404  0.48259605]\n",
            " [-0.62699638  0.46603771 -1.61044623  0.8057162 ]\n",
            " [-0.72617154  0.40199858 -1.79209927 -0.15642092]]\n",
            "Statistics:\n",
            "               A         B         C         D\n",
            "count  4.000000  4.000000  4.000000  4.000000\n",
            "mean  -0.594856 -0.148599 -0.791593  0.268008\n",
            "std    0.557011  0.821505  1.087779  0.455637\n",
            "min   -1.183632 -1.307753 -1.792099 -0.156421\n",
            "25%   -0.840537 -0.442948 -1.655859 -0.084000\n",
            "50%   -0.676584  0.123659 -0.913220  0.211368\n",
            "75%   -0.430904  0.418008 -0.048953  0.563376\n",
            "max    0.157375  0.466038  0.452169  0.805716\n"
          ]
        }
      ]
    },
    {
      "cell_type": "markdown",
      "metadata": {
        "id": "xnkA2mKDdyoO"
      },
      "source": [
        "2. Use the above table and,\n",
        "      - find transpose of your data.\n",
        "      - sort the index in the descending order of the date."
      ]
    },
    {
      "cell_type": "code",
      "metadata": {
        "id": "uqcQSEOufJ5P",
        "outputId": "005e8a2b-6023-4a47-9f78-0ee2293711e4",
        "colab": {
          "base_uri": "https://localhost:8080/"
        }
      },
      "source": [
        "#please provide your answer below this line.\n",
        "print(\"Transpose\\n\", df.transpose())\n",
        "print(\"Sorted in Descending Order\\n\", df.sort_index(ascending=False))"
      ],
      "execution_count": 2,
      "outputs": [
        {
          "output_type": "stream",
          "name": "stdout",
          "text": [
            "Transpose\n",
            "    2021-08-24  2021-08-25  2021-08-26  2021-08-27\n",
            "A   -1.183632    0.157375   -0.626996   -0.726172\n",
            "B   -0.154680   -1.307753    0.466038    0.401999\n",
            "C    0.452169   -0.215994   -1.610446   -1.792099\n",
            "D   -0.059860    0.482596    0.805716   -0.156421\n",
            "Sorted in Descending Order\n",
            "                    A         B         C         D\n",
            "2021-08-27 -0.726172  0.401999 -1.792099 -0.156421\n",
            "2021-08-26 -0.626996  0.466038 -1.610446  0.805716\n",
            "2021-08-25  0.157375 -1.307753 -0.215994  0.482596\n",
            "2021-08-24 -1.183632 -0.154680  0.452169 -0.059860\n"
          ]
        }
      ]
    },
    {
      "cell_type": "markdown",
      "metadata": {
        "id": "ss7s_8iDbAcL"
      },
      "source": [
        ""
      ]
    }
  ]
}