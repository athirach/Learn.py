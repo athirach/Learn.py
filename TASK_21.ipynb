{
  "nbformat": 4,
  "nbformat_minor": 0,
  "metadata": {
    "colab": {
      "name": "TASK 21.ipynb",
      "provenance": [],
      "include_colab_link": true
    },
    "kernelspec": {
      "name": "python3",
      "display_name": "Python 3"
    },
    "language_info": {
      "name": "python"
    }
  },
  "cells": [
    {
      "cell_type": "markdown",
      "metadata": {
        "id": "view-in-github",
        "colab_type": "text"
      },
      "source": [
        "<a href=\"https://colab.research.google.com/github/athirach/Learn.py/blob/main/TASK_21.ipynb\" target=\"_parent\"><img src=\"https://colab.research.google.com/assets/colab-badge.svg\" alt=\"Open In Colab\"/></a>"
      ]
    },
    {
      "cell_type": "markdown",
      "metadata": {
        "id": "wK9sv7fHTnyo"
      },
      "source": [
        "1.  Using the dataset given below,\n",
        "  - Group the given dataset by A and find the sum of the groups.\n",
        "  - Find the 3 least elements from the column D\n",
        "  - Find the 3 largest elements from the Column D which belongs to the group\n",
        "  'bar'."
      ]
    },
    {
      "cell_type": "code",
      "metadata": {
        "id": "C_Kq4i_rVNyB",
        "outputId": "606b4065-8886-4e98-cab5-b3f2a2bd276d",
        "colab": {
          "base_uri": "https://localhost:8080/"
        }
      },
      "source": [
        "import pandas as pd\n",
        "import numpy as np\n",
        "df = pd.DataFrame({'A' : ['foo', 'bar', 'foo', 'bar',\n",
        "                          'foo', 'bar', 'foo', 'foo'],\n",
        "                   'B' : ['one', 'one', 'two', 'three',\n",
        "                          'two', 'two', 'one', 'three'],\n",
        "                   'C' : np.random.randn(8),\n",
        "                   'D' : np.random.randn(8)})\n",
        "df\n",
        "#please type your code below this line.\n",
        "group=df.groupby('A')\n",
        "print(\"Sum of the groups: \\n\",group.sum())\n",
        "print(\"3 least elements from the column D: \\n\",df['D'].nsmallest(3))\n",
        "print(\"3 largest elements from the column D which belongs to the group 'bar':\\n\",group['D'].get_group('bar').nlargest(3))"
      ],
      "execution_count": 2,
      "outputs": [
        {
          "output_type": "stream",
          "name": "stdout",
          "text": [
            "Sum of the groups: \n",
            "             C         D\n",
            "A                      \n",
            "bar  0.082179  2.389408\n",
            "foo -3.946242 -0.876635\n",
            "3 least elements from the column D: \n",
            " 4   -0.935756\n",
            "0   -0.806292\n",
            "2   -0.590877\n",
            "Name: D, dtype: float64\n",
            "3 largest elements from the column D which belongs to the group 'bar':\n",
            " 5    1.548950\n",
            "3    1.028651\n",
            "1   -0.188192\n",
            "Name: D, dtype: float64\n"
          ]
        }
      ]
    },
    {
      "cell_type": "markdown",
      "metadata": {
        "id": "68XLHGsrdHXb"
      },
      "source": [
        "2. Using the dataset given below,\n",
        "  - convert the dataset into a csv file.\n",
        "  - read the csv file just saved\n",
        "  - covert the dataset into a excel file.\n",
        "  - read the excel file just saved."
      ]
    },
    {
      "cell_type": "code",
      "metadata": {
        "id": "J4BOx3UZdVLV",
        "outputId": "9f4c4224-88cb-4fc5-e81c-3c9c6c0d0724",
        "colab": {
          "base_uri": "https://localhost:8080/"
        }
      },
      "source": [
        "import pandas as pd\n",
        "import numpy as np\n",
        "df = pd.DataFrame({'A' : ['foo', 'bar', 'foo', 'bar',\n",
        "                          'foo', 'bar', 'foo', 'foo'],\n",
        "                   'B' : ['one', 'one', 'two', 'three',\n",
        "                          'two', 'two', 'one', 'three'],\n",
        "                   'C' : np.random.randn(8),\n",
        "                   'D' : np.random.randn(8)})\n",
        "#please type your code below this line.\n",
        "print(df)\n",
        "df.to_csv('csvFile.csv')\n",
        "print(\"CSS FILE: \\n\",pd.read_csv('csvFile.csv'))\n",
        "df.to_excel('excelFile.xlsx')\n",
        "print(\"EXCEL FILE: \\n \",pd.read_excel('excelFile.xlsx'))"
      ],
      "execution_count": 1,
      "outputs": [
        {
          "output_type": "stream",
          "name": "stdout",
          "text": [
            "     A      B         C         D\n",
            "0  foo    one -0.258300  0.019105\n",
            "1  bar    one -0.362840 -0.432225\n",
            "2  foo    two  0.017718  1.282459\n",
            "3  bar  three -1.886646  0.950025\n",
            "4  foo    two  0.536761 -0.800399\n",
            "5  bar    two -1.287658 -0.162561\n",
            "6  foo    one  0.657075 -1.014682\n",
            "7  foo  three -0.718221 -1.277677\n",
            "CSS FILE: \n",
            "    Unnamed: 0    A      B         C         D\n",
            "0           0  foo    one -0.258300  0.019105\n",
            "1           1  bar    one -0.362840 -0.432225\n",
            "2           2  foo    two  0.017718  1.282459\n",
            "3           3  bar  three -1.886646  0.950025\n",
            "4           4  foo    two  0.536761 -0.800399\n",
            "5           5  bar    two -1.287658 -0.162561\n",
            "6           6  foo    one  0.657075 -1.014682\n",
            "7           7  foo  three -0.718221 -1.277677\n",
            "EXCEL FILE: \n",
            "     Unnamed: 0    A      B         C         D\n",
            "0           0  foo    one -0.258300  0.019105\n",
            "1           1  bar    one -0.362840 -0.432225\n",
            "2           2  foo    two  0.017718  1.282459\n",
            "3           3  bar  three -1.886646  0.950025\n",
            "4           4  foo    two  0.536761 -0.800399\n",
            "5           5  bar    two -1.287658 -0.162561\n",
            "6           6  foo    one  0.657075 -1.014682\n",
            "7           7  foo  three -0.718221 -1.277677\n"
          ]
        }
      ]
    }
  ]
}