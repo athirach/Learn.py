{
  "nbformat": 4,
  "nbformat_minor": 0,
  "metadata": {
    "colab": {
      "name": "TASK 18.ipynb",
      "provenance": [],
      "include_colab_link": true
    },
    "kernelspec": {
      "name": "python3",
      "display_name": "Python 3"
    },
    "language_info": {
      "name": "python"
    }
  },
  "cells": [
    {
      "cell_type": "markdown",
      "metadata": {
        "id": "view-in-github",
        "colab_type": "text"
      },
      "source": [
        "<a href=\"https://colab.research.google.com/github/athirach/Learn.py/blob/main/TASK_18.ipynb\" target=\"_parent\"><img src=\"https://colab.research.google.com/assets/colab-badge.svg\" alt=\"Open In Colab\"/></a>"
      ]
    },
    {
      "cell_type": "markdown",
      "metadata": {
        "id": "_JgXT8pEAjU4"
      },
      "source": [
        "1. \n",
        "Create a DataFrame by passing a random numpy array,with a datetie index and labelled columns.and,\n",
        "    - slice its first three rows and display.\n",
        "    - slice its odd indexed rows.\n",
        "    - display the dates from 1st postion to 4 th position."
      ]
    },
    {
      "cell_type": "code",
      "metadata": {
        "id": "5zFM5VOJBKBV",
        "outputId": "366ffd8b-3717-4237-8dd9-f38f8f364ebf",
        "colab": {
          "base_uri": "https://localhost:8080/"
        }
      },
      "source": [
        "#please provide your answer below this line.\n",
        "import numpy as np\n",
        "import pandas as pd\n",
        "datetie = pd.date_range('2021-08-24',periods=8)\n",
        "df = pd.DataFrame(np.random.randn(8,6),index=datetie,columns=list('ABCDEF'))\n",
        "print(\"First three rows:\\n\",df.iloc[0:3])\n",
        "print(\"\\nodd indexed rows:\\n\",df.iloc[1::2])\n",
        "print(\"\\n1st position to 4 th position:\\n\",df.iloc[1:5])"
      ],
      "execution_count": 3,
      "outputs": [
        {
          "output_type": "stream",
          "text": [
            "First three rows:\n",
            "                    A         B         C         D         E         F\n",
            "2021-08-24  1.692791 -1.340900  0.326968  0.499904 -0.339013 -1.172924\n",
            "2021-08-25 -0.968080  0.329913 -0.425704 -1.087251  0.797249 -0.898252\n",
            "2021-08-26 -0.651335 -0.047881  0.261651  0.313037  0.087720 -0.754723\n",
            "\n",
            "odd indexed rows:\n",
            "                    A         B         C         D         E         F\n",
            "2021-08-25 -0.968080  0.329913 -0.425704 -1.087251  0.797249 -0.898252\n",
            "2021-08-27 -0.705097  0.043209  0.118960  1.513717 -1.431117  0.257563\n",
            "2021-08-29  1.101120  0.930435  0.963019 -1.058558 -0.099191 -0.236147\n",
            "2021-08-31 -0.578618 -0.901917  0.964391  1.090420  0.561265  0.790406\n",
            "\n",
            "1st position to 4 th position:\n",
            "                    A         B         C         D         E         F\n",
            "2021-08-25 -0.968080  0.329913 -0.425704 -1.087251  0.797249 -0.898252\n",
            "2021-08-26 -0.651335 -0.047881  0.261651  0.313037  0.087720 -0.754723\n",
            "2021-08-27 -0.705097  0.043209  0.118960  1.513717 -1.431117  0.257563\n",
            "2021-08-28 -0.293167 -1.222107  0.630849  0.841503 -0.057375  0.155969\n"
          ],
          "name": "stdout"
        }
      ]
    },
    {
      "cell_type": "markdown",
      "metadata": {
        "id": "QuoucvjxBPmX"
      },
      "source": [
        "2. Create a DataFrame by passing a random numpy array,with a datetie index and labelled columns.and\n",
        "  - Dislplay the index from the 1 to 3 date and the columns A and B of respective data.\n",
        "  - Display the datas at the 3rd index.\n",
        "  - Display datas from 2nd to 5th.\n",
        "  - Display the datas from the index 1,2,4 and the column 0 and 2."
      ]
    },
    {
      "cell_type": "code",
      "metadata": {
        "id": "qV_wzsp1DUKI",
        "outputId": "369c8fb5-dd59-4751-ade2-873aee287945",
        "colab": {
          "base_uri": "https://localhost:8080/"
        }
      },
      "source": [
        "#please provide your answer below thins line.\n",
        "import numpy as np\n",
        "import pandas as pd\n",
        "datetie = pd.date_range('2021-08-24',periods=8)\n",
        "df=pd.DataFrame(np.random.randn(8,6),index=datetie, columns=list('ABCDEF'))\n",
        "print(\"Index 1 to 3 date and the columns A and B:\\n\",df.iloc[0:3,0:2])\n",
        "print(\"\\nDatas at the 3rd index:\\n\",df.iloc[3:4])\n",
        "print(\"\\nDatas from 2nd to 5th:\\n\",df.iloc[2:6])\n",
        "print(\"\\nDatas from the index 1,2,4 and the column 0 and 2:\\n\",df.iloc[[1,2,4],[0,2]])"
      ],
      "execution_count": 5,
      "outputs": [
        {
          "output_type": "stream",
          "text": [
            "Index 1 to 3 date and the columns A and B:\n",
            "                    A         B\n",
            "2021-08-24 -0.333636  1.451236\n",
            "2021-08-25  0.062361 -0.278064\n",
            "2021-08-26 -1.093585 -0.540975\n",
            "\n",
            "Datas at the 3rd index:\n",
            "                    A         B         C         D         E         F\n",
            "2021-08-27 -0.139383  0.429033 -0.556186  1.091242  0.670314 -0.506655\n",
            "\n",
            "Datas from 2nd to 5th:\n",
            "                    A         B         C         D         E         F\n",
            "2021-08-26 -1.093585 -0.540975 -0.299313  0.456479  0.612954 -0.329517\n",
            "2021-08-27 -0.139383  0.429033 -0.556186  1.091242  0.670314 -0.506655\n",
            "2021-08-28 -2.256544  1.071386  1.505235  0.824249 -1.436083  0.970767\n",
            "2021-08-29  0.560970  0.660606 -0.541750  1.720000 -0.659153  0.156168\n",
            "\n",
            "Datas from the index 1,2,4 and the column 0 and 2:\n",
            "                    A         C\n",
            "2021-08-25  0.062361  0.488180\n",
            "2021-08-26 -1.093585 -0.299313\n",
            "2021-08-28 -2.256544  1.505235\n"
          ],
          "name": "stdout"
        }
      ]
    }
  ]
}